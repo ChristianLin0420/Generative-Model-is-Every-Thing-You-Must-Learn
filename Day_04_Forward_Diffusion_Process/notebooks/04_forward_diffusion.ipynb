{
  "cells": [
    {
      "cell_type": "markdown",
      "metadata": {
        "vscode": {
          "languageId": "raw"
        }
      },
      "source": [
        "# Forward Diffusion Process - Interactive Notebook\n",
        "\n",
        "This notebook provides an interactive exploration of the forward diffusion process in DDPMs. You can:\n",
        "- Tweak the number of timesteps T\n",
        "- Compare different noise schedules (linear, cosine, sigmoid)\n",
        "- Inspect SNR thresholds and their impact\n",
        "- Visualize the degradation process\n",
        "\n",
        "## Setup\n"
      ]
    },
    {
      "cell_type": "code",
      "execution_count": 3,
      "metadata": {},
      "outputs": [
        {
          "name": "stdout",
          "output_type": "stream",
          "text": [
            "Using device: cuda\n",
            "Loading sample data...\n",
            "MNIST batch shape: torch.Size([16, 1, 28, 28])\n",
            "CIFAR batch shape: torch.Size([16, 3, 32, 32])\n"
          ]
        }
      ],
      "source": [
        "import sys\n",
        "import os\n",
        "sys.path.append('..')\n",
        "\n",
        "import torch\n",
        "import numpy as np\n",
        "import matplotlib.pyplot as plt\n",
        "from IPython.display import display, Image as IPImage\n",
        "import ipywidgets as widgets\n",
        "from ipywidgets import interact, interactive, fixed, interact_manual\n",
        "\n",
        "# Import our modules\n",
        "from src.utils import set_seed, get_device, save_image_grid\n",
        "from src.dataset import get_sample_batch\n",
        "from src.ddpm_schedules import get_ddpm_schedule, get_schedule_stats\n",
        "from src.forward import (\n",
        "    q_xt_given_x0, sample_trajectory, snr, snr_db, \n",
        "    get_timesteps_for_snr_threshold, compute_mse_to_x0\n",
        ")\n",
        "from src.visualize import (\n",
        "    plot_schedules, create_trajectory_grid, plot_pixel_histograms,\n",
        "    plot_snr_analysis\n",
        ")\n",
        "\n",
        "# Setup\n",
        "set_seed(42)\n",
        "device = get_device(\"cuda\" if torch.cuda.is_available() else \"cpu\")\n",
        "print(f\"Using device: {device}\")\n",
        "\n",
        "# Load sample data\n",
        "print(\"Loading sample data...\")\n",
        "mnist_batch, mnist_labels = get_sample_batch(\"mnist\", \"../data\", batch_size=16, normalize_mode=\"minus_one_one\")\n",
        "cifar_batch, cifar_labels = get_sample_batch(\"cifar10\", \"../data\", batch_size=16, normalize_mode=\"minus_one_one\")\n",
        "\n",
        "mnist_batch = mnist_batch.to(device)\n",
        "cifar_batch = cifar_batch.to(device)\n",
        "\n",
        "print(f\"MNIST batch shape: {mnist_batch.shape}\")\n",
        "print(f\"CIFAR batch shape: {cifar_batch.shape}\")\n"
      ]
    },
    {
      "cell_type": "markdown",
      "metadata": {
        "vscode": {
          "languageId": "raw"
        }
      },
      "source": [
        "## Interactive Schedule Exploration\n",
        "\n",
        "Use the widgets below to explore different noise schedules and their properties:\n"
      ]
    },
    {
      "cell_type": "code",
      "execution_count": 4,
      "metadata": {},
      "outputs": [
        {
          "data": {
            "application/vnd.jupyter.widget-view+json": {
              "model_id": "25dd9198303544aa9de6cce00bf7d8b6",
              "version_major": 2,
              "version_minor": 0
            },
            "text/plain": [
              "interactive(children=(IntSlider(value=1000, description='Timesteps T:', max=2000, min=100, step=100), Dropdown…"
            ]
          },
          "metadata": {},
          "output_type": "display_data"
        }
      ],
      "source": [
        "def explore_schedules(T=1000, schedule_type=\"cosine\", show_stats=True):\n",
        "    \"\"\"Interactive function to explore different schedules.\"\"\"\n",
        "    \n",
        "    # Get schedule\n",
        "    betas, alphas, alpha_bars = get_ddpm_schedule(T, schedule_type)\n",
        "    \n",
        "    # Compute statistics\n",
        "    stats = get_schedule_stats(betas, alphas, alpha_bars)\n",
        "    snr_values = snr_db(alpha_bars)\n",
        "    \n",
        "    # Create plots\n",
        "    fig, axes = plt.subplots(2, 2, figsize=(12, 8))\n",
        "    timesteps = np.arange(T)\n",
        "    \n",
        "    # Beta schedule\n",
        "    axes[0,0].plot(timesteps, betas.numpy(), 'b-', linewidth=2)\n",
        "    axes[0,0].set_title('Beta Schedule')\n",
        "    axes[0,0].set_xlabel('Timestep t')\n",
        "    axes[0,0].set_ylabel(r'$\\beta_t$')\n",
        "    axes[0,0].grid(True, alpha=0.3)\n",
        "    \n",
        "    # Alpha bar schedule\n",
        "    axes[0,1].plot(timesteps, alpha_bars.numpy(), 'g-', linewidth=2)\n",
        "    axes[0,1].set_title('Cumulative Alpha')\n",
        "    axes[0,1].set_xlabel('Timestep t')\n",
        "    axes[0,1].set_ylabel(r'$\\bar{\\alpha}_t$')\n",
        "    axes[0,1].grid(True, alpha=0.3)\n",
        "    \n",
        "    # SNR in dB\n",
        "    axes[1,0].plot(timesteps, snr_values.numpy(), 'r-', linewidth=2)\n",
        "    axes[1,0].axhline(y=0, color='black', linestyle='--', alpha=0.5)\n",
        "    axes[1,0].axhline(y=-5, color='red', linestyle='--', alpha=0.5, label='-5dB threshold')\n",
        "    axes[1,0].set_title('Signal-to-Noise Ratio')\n",
        "    axes[1,0].set_xlabel('Timestep t')\n",
        "    axes[1,0].set_ylabel('SNR (dB)')\n",
        "    axes[1,0].legend()\n",
        "    axes[1,0].grid(True, alpha=0.3)\n",
        "    \n",
        "    # SNR thresholds analysis\n",
        "    thresholds = [-5, -10, -15, -20]\n",
        "    threshold_times = []\n",
        "    \n",
        "    for threshold in thresholds:\n",
        "        timesteps_below = get_timesteps_for_snr_threshold(alpha_bars, threshold)\n",
        "        if len(timesteps_below) > 0:\n",
        "            threshold_times.append(int(timesteps_below[0]))\n",
        "        else:\n",
        "            threshold_times.append(T)\n",
        "    \n",
        "    bars = axes[1,1].bar(range(len(thresholds)), threshold_times, alpha=0.7)\n",
        "    axes[1,1].set_title('Time to SNR Thresholds')\n",
        "    axes[1,1].set_xlabel('SNR Threshold')\n",
        "    axes[1,1].set_ylabel('Timestep')\n",
        "    axes[1,1].set_xticks(range(len(thresholds)))\n",
        "    axes[1,1].set_xticklabels([f'{t}dB' for t in thresholds])\n",
        "    axes[1,1].grid(True, alpha=0.3, axis='y')\n",
        "    \n",
        "    # Add value labels on bars\n",
        "    for bar, time in zip(bars, threshold_times):\n",
        "        height = bar.get_height()\n",
        "        if time < T:\n",
        "            axes[1,1].text(bar.get_x() + bar.get_width()/2., height + T*0.01,\n",
        "                          f'{time}', ha='center', va='bottom')\n",
        "    \n",
        "    plt.tight_layout()\n",
        "    plt.show()\n",
        "    \n",
        "    if show_stats:\n",
        "        print(f\"\\n=== {schedule_type.upper()} Schedule Statistics ===\")\n",
        "        print(f\"Total timesteps: {stats['T']}\")\n",
        "        print(f\"Beta range: {stats['beta_min']:.6f} - {stats['beta_max']:.6f}\")\n",
        "        print(f\"Final alpha_bar: {stats['alpha_bar_final']:.6f}\")\n",
        "        print(f\"Final SNR: {snr_values[-1]:.2f} dB\")\n",
        "        \n",
        "        print(\"\\nSNR Threshold Analysis:\")\n",
        "        for threshold, time in zip(thresholds, threshold_times):\n",
        "            if time < T:\n",
        "                print(f\"  {threshold:+.0f} dB reached at timestep {time}\")\n",
        "            else:\n",
        "                print(f\"  {threshold:+.0f} dB never reached\")\n",
        "\n",
        "# Create interactive widget\n",
        "interactive_plot = interact(\n",
        "    explore_schedules,\n",
        "    T=widgets.IntSlider(min=100, max=2000, step=100, value=1000, description='Timesteps T:'),\n",
        "    schedule_type=widgets.Dropdown(\n",
        "        options=['linear', 'cosine', 'sigmoid'],\n",
        "        value='cosine',\n",
        "        description='Schedule:'\n",
        "    ),\n",
        "    show_stats=widgets.Checkbox(value=True, description='Show Statistics')\n",
        ")\n"
      ]
    },
    {
      "cell_type": "markdown",
      "metadata": {
        "vscode": {
          "languageId": "raw"
        }
      },
      "source": [
        "## Interactive Forward Diffusion Visualization\n",
        "\n",
        "Visualize how images degrade through the forward process:\n"
      ]
    },
    {
      "cell_type": "code",
      "execution_count": 5,
      "metadata": {},
      "outputs": [
        {
          "data": {
            "application/vnd.jupyter.widget-view+json": {
              "model_id": "6086f6495d8349938633a491faab094d",
              "version_major": 2,
              "version_minor": 0
            },
            "text/plain": [
              "interactive(children=(Dropdown(description='Dataset:', options=('mnist', 'cifar10'), value='mnist'), Dropdown(…"
            ]
          },
          "metadata": {},
          "output_type": "display_data"
        }
      ],
      "source": [
        "def visualize_forward_process(dataset=\"mnist\", schedule_type=\"cosine\", T=1000, \n",
        "                             timesteps_str=\"0,50,100,250,500,750,999\"):\n",
        "    \"\"\"Interactive visualization of forward diffusion process.\"\"\"\n",
        "    \n",
        "    # Parse timesteps\n",
        "    timesteps_to_show = [int(t.strip()) for t in timesteps_str.split(',')]\n",
        "    \n",
        "    # Get data batch\n",
        "    if dataset == \"mnist\":\n",
        "        x0_batch = mnist_batch[:8]  # Use fewer images for cleaner display\n",
        "    else:\n",
        "        x0_batch = cifar_batch[:8]\n",
        "    \n",
        "    # Get schedule\n",
        "    betas, alphas, alpha_bars = get_ddpm_schedule(T, schedule_type)\n",
        "    alpha_bars = alpha_bars.to(device)\n",
        "    \n",
        "    # Create trajectory grid\n",
        "    trajectories = torch.zeros(\n",
        "        (x0_batch.shape[0], len(timesteps_to_show)) + x0_batch.shape[1:],\n",
        "        device=device\n",
        "    )\n",
        "    \n",
        "    for t_idx, t in enumerate(timesteps_to_show):\n",
        "        if t == 0:\n",
        "            trajectories[:, t_idx] = x0_batch\n",
        "        else:\n",
        "            batch_size = x0_batch.shape[0]\n",
        "            t_tensor = torch.full((batch_size,), t - 1, device=device)\n",
        "            x_t, _ = q_xt_given_x0(x0_batch, t_tensor, alpha_bars)\n",
        "            trajectories[:, t_idx] = x_t\n",
        "    \n",
        "    # Denormalize for display\n",
        "    trajectories = (trajectories + 1.0) / 2.0  # [-1,1] -> [0,1]\n",
        "    trajectories = torch.clamp(trajectories, 0, 1)\n",
        "    \n",
        "    # Create visualization\n",
        "    batch_size, num_t = trajectories.shape[:2]\n",
        "    fig, axes = plt.subplots(batch_size, num_t, figsize=(num_t * 1.5, batch_size * 1.5))\n",
        "    \n",
        "    if batch_size == 1:\n",
        "        axes = axes.reshape(1, -1)\n",
        "    \n",
        "    for i in range(batch_size):\n",
        "        for j, t in enumerate(timesteps_to_show):\n",
        "            img = trajectories[i, j]\n",
        "            \n",
        "            if img.shape[0] == 1:  # Grayscale\n",
        "                axes[i, j].imshow(img.squeeze(0).cpu().numpy(), cmap='gray', vmin=0, vmax=1)\n",
        "            else:  # RGB\n",
        "                axes[i, j].imshow(img.permute(1, 2, 0).cpu().numpy())\n",
        "            \n",
        "            if i == 0:  # Add timestep labels to top row\n",
        "                axes[i, j].set_title(f't={t}', fontsize=10)\n",
        "            axes[i, j].axis('off')\n",
        "    \n",
        "    plt.suptitle(f'Forward Diffusion Process - {dataset.upper()} ({schedule_type} schedule)', fontsize=14)\n",
        "    plt.tight_layout()\n",
        "    plt.show()\n",
        "\n",
        "# Create interactive widget\n",
        "interact(\n",
        "    visualize_forward_process,\n",
        "    dataset=widgets.Dropdown(options=['mnist', 'cifar10'], value='mnist', description='Dataset:'),\n",
        "    schedule_type=widgets.Dropdown(options=['linear', 'cosine', 'sigmoid'], value='cosine', description='Schedule:'),\n",
        "    T=widgets.IntSlider(min=500, max=2000, step=100, value=1000, description='Timesteps T:'),\n",
        "    timesteps_str=widgets.Text(value=\"0,50,100,250,500,750,999\", description='Timesteps:')\n",
        ");\n"
      ]
    },
    {
      "cell_type": "markdown",
      "metadata": {
        "vscode": {
          "languageId": "raw"
        }
      },
      "source": [
        "## SNR Threshold Analysis\n",
        "\n",
        "Investigate when images become more noise than signal:\n"
      ]
    },
    {
      "cell_type": "code",
      "execution_count": 6,
      "metadata": {},
      "outputs": [
        {
          "data": {
            "application/vnd.jupyter.widget-view+json": {
              "model_id": "271c79ffd0a34a779660a3f5fea5cb30",
              "version_major": 2,
              "version_minor": 0
            },
            "text/plain": [
              "interactive(children=(FloatSlider(value=-5.0, description='SNR Threshold (dB):', max=5.0, min=-20.0, step=1.0)…"
            ]
          },
          "metadata": {},
          "output_type": "display_data"
        }
      ],
      "source": [
        "def analyze_snr_threshold(threshold_db=-5.0, T=1000):\n",
        "    \"\"\"Analyze what happens at specific SNR thresholds.\"\"\"\n",
        "    \n",
        "    schedules = ['linear', 'cosine', 'sigmoid']\n",
        "    colors = ['blue', 'red', 'green']\n",
        "    \n",
        "    fig, axes = plt.subplots(1, 3, figsize=(15, 5))\n",
        "    \n",
        "    threshold_times = {}\n",
        "    \n",
        "    for schedule, color in zip(schedules, colors):\n",
        "        betas, alphas, alpha_bars = get_ddpm_schedule(T, schedule)\n",
        "        snr_values = snr_db(alpha_bars)\n",
        "        timesteps = np.arange(T)\n",
        "        \n",
        "        # Plot SNR curves\n",
        "        axes[0].plot(timesteps, snr_values.numpy(), color=color, linewidth=2, label=schedule)\n",
        "        \n",
        "        # Find threshold crossing\n",
        "        threshold_ts = get_timesteps_for_snr_threshold(alpha_bars, threshold_db)\n",
        "        if len(threshold_ts) > 0:\n",
        "            threshold_t = int(threshold_ts[0])\n",
        "            threshold_times[schedule] = threshold_t\n",
        "            axes[0].scatter(threshold_t, threshold_db, color=color, s=100, zorder=5)\n",
        "        else:\n",
        "            threshold_times[schedule] = T\n",
        "    \n",
        "    axes[0].axhline(y=threshold_db, color='black', linestyle='--', alpha=0.7)\n",
        "    axes[0].axhline(y=0, color='gray', linestyle=':', alpha=0.5)\n",
        "    axes[0].set_title(f'SNR Curves with {threshold_db}dB Threshold')\n",
        "    axes[0].set_xlabel('Timestep t')\n",
        "    axes[0].set_ylabel('SNR (dB)')\n",
        "    axes[0].legend()\n",
        "    axes[0].grid(True, alpha=0.3)\n",
        "    \n",
        "    # Bar chart of threshold times\n",
        "    bars = axes[1].bar(schedules, [threshold_times[s] for s in schedules], color=colors, alpha=0.7)\n",
        "    axes[1].set_title(f'Time to {threshold_db}dB Threshold')\n",
        "    axes[1].set_ylabel('Timestep')\n",
        "    axes[1].grid(True, alpha=0.3, axis='y')\n",
        "    \n",
        "    # Add value labels on bars\n",
        "    for bar, schedule in zip(bars, schedules):\n",
        "        height = bar.get_height()\n",
        "        if threshold_times[schedule] < T:\n",
        "            axes[1].text(bar.get_x() + bar.get_width()/2., height + T*0.01,\n",
        "                          f'{threshold_times[schedule]}', ha='center', va='bottom')\n",
        "        else:\n",
        "            axes[1].text(bar.get_x() + bar.get_width()/2., height/2,\n",
        "                          'Never', ha='center', va='center', color='white', fontweight='bold')\n",
        "    \n",
        "    # Show example image at threshold (cosine schedule)\n",
        "    cosine_threshold_t = threshold_times.get('cosine', T//2)\n",
        "    if cosine_threshold_t < T:\n",
        "        betas, alphas, alpha_bars = get_ddpm_schedule(T, 'cosine')\n",
        "        alpha_bars = alpha_bars.to(device)\n",
        "        \n",
        "        # Sample at threshold\n",
        "        sample_image = mnist_batch[:1]\n",
        "        t_tensor = torch.full((1,), cosine_threshold_t - 1, device=device)\n",
        "        x_threshold, _ = q_xt_given_x0(sample_image, t_tensor, alpha_bars)\n",
        "        \n",
        "        # Denormalize for display\n",
        "        x_original = (sample_image[0] + 1.0) / 2.0\n",
        "        x_threshold_display = (x_threshold[0] + 1.0) / 2.0\n",
        "        \n",
        "        # Show comparison\n",
        "        if x_original.shape[0] == 1:  # Grayscale\n",
        "            axes[2].imshow(x_threshold_display.squeeze(0).cpu().numpy(), cmap='gray')\n",
        "        else:\n",
        "            axes[2].imshow(x_threshold_display.permute(1, 2, 0).cpu().numpy())\n",
        "        \n",
        "        axes[2].set_title(f'Sample at {threshold_db}dB\\\\n(t={cosine_threshold_t})')\n",
        "        axes[2].axis('off')\n",
        "    \n",
        "    plt.tight_layout()\n",
        "    plt.show()\n",
        "    \n",
        "    print(f\"\\nThreshold Analysis for {threshold_db}dB:\")\n",
        "    for schedule in schedules:\n",
        "        time = threshold_times[schedule]\n",
        "        if time < T:\n",
        "            percent = (time / T) * 100\n",
        "            print(f\"  {schedule:>8}: t={time:4d} ({percent:.1f}% through process)\")\n",
        "        else:\n",
        "            print(f\"  {schedule:>8}: Never reached\")\n",
        "\n",
        "# Create interactive widget\n",
        "interact(\n",
        "    analyze_snr_threshold,\n",
        "    threshold_db=widgets.FloatSlider(min=-20, max=5, step=1, value=-5, description='SNR Threshold (dB):'),\n",
        "    T=widgets.IntSlider(min=500, max=2000, step=100, value=1000, description='Total Timesteps:')\n",
        ");\n"
      ]
    },
    {
      "cell_type": "markdown",
      "metadata": {
        "vscode": {
          "languageId": "raw"
        }
      },
      "source": [
        "## Pixel Statistics Evolution\n",
        "\n",
        "Watch how pixel statistics evolve towards standard Gaussian:\n"
      ]
    },
    {
      "cell_type": "code",
      "execution_count": 7,
      "metadata": {},
      "outputs": [
        {
          "data": {
            "application/vnd.jupyter.widget-view+json": {
              "model_id": "cb2534e308ff4af4916788704aa73df8",
              "version_major": 2,
              "version_minor": 0
            },
            "text/plain": [
              "interactive(children=(Dropdown(description='Dataset:', options=('mnist', 'cifar10'), value='mnist'), Dropdown(…"
            ]
          },
          "metadata": {},
          "output_type": "display_data"
        }
      ],
      "source": [
        "def analyze_pixel_statistics(dataset=\"mnist\", schedule_type=\"cosine\", T=1000):\n",
        "    \"\"\"Analyze evolution of pixel statistics.\"\"\"\n",
        "    \n",
        "    # Get data\n",
        "    if dataset == \"mnist\":\n",
        "        x0_batch = mnist_batch\n",
        "    else:\n",
        "        x0_batch = cifar_batch\n",
        "    \n",
        "    # Get schedule\n",
        "    betas, alphas, alpha_bars = get_ddpm_schedule(T, schedule_type)\n",
        "    alpha_bars = alpha_bars.to(device)\n",
        "    \n",
        "    # Sample at different timesteps\n",
        "    test_timesteps = [0, 50, 100, 200, 400, 600, 800, 999]\n",
        "    pixel_stats = {'timesteps': test_timesteps, 'means': [], 'stds': [], 'mins': [], 'maxs': []}\n",
        "    \n",
        "    for t in test_timesteps:\n",
        "        if t == 0:\n",
        "            x_t = x0_batch\n",
        "        else:\n",
        "            t_tensor = torch.full((x0_batch.shape[0],), t - 1, device=device)\n",
        "            x_t, _ = q_xt_given_x0(x0_batch, t_tensor, alpha_bars)\n",
        "        \n",
        "        # Compute statistics\n",
        "        pixels = x_t.flatten().cpu()\n",
        "        pixel_stats['means'].append(float(pixels.mean()))\n",
        "        pixel_stats['stds'].append(float(pixels.std()))\n",
        "        pixel_stats['mins'].append(float(pixels.min()))\n",
        "        pixel_stats['maxs'].append(float(pixels.max()))\n",
        "    \n",
        "    # Plot evolution\n",
        "    fig, axes = plt.subplots(2, 2, figsize=(12, 8))\n",
        "    \n",
        "    # Mean evolution\n",
        "    axes[0,0].plot(test_timesteps, pixel_stats['means'], 'bo-', linewidth=2, markersize=6)\n",
        "    axes[0,0].axhline(y=0, color='red', linestyle='--', alpha=0.7, label='Target (0)')\n",
        "    axes[0,0].set_title('Pixel Mean Evolution')\n",
        "    axes[0,0].set_xlabel('Timestep t')\n",
        "    axes[0,0].set_ylabel('Mean Pixel Value')\n",
        "    axes[0,0].legend()\n",
        "    axes[0,0].grid(True, alpha=0.3)\n",
        "    \n",
        "    # Standard deviation evolution\n",
        "    axes[0,1].plot(test_timesteps, pixel_stats['stds'], 'go-', linewidth=2, markersize=6)\n",
        "    axes[0,1].axhline(y=1, color='red', linestyle='--', alpha=0.7, label='Target (1)')\n",
        "    axes[0,1].set_title('Pixel Std Evolution')\n",
        "    axes[0,1].set_xlabel('Timestep t')\n",
        "    axes[0,1].set_ylabel('Std Pixel Value')\n",
        "    axes[0,1].legend()\n",
        "    axes[0,1].grid(True, alpha=0.3)\n",
        "    \n",
        "    # Range evolution\n",
        "    axes[1,0].fill_between(test_timesteps, pixel_stats['mins'], pixel_stats['maxs'], \n",
        "                          alpha=0.3, color='purple', label='Min-Max Range')\n",
        "    axes[1,0].plot(test_timesteps, pixel_stats['mins'], 'purple', linewidth=2, label='Min')\n",
        "    axes[1,0].plot(test_timesteps, pixel_stats['maxs'], 'purple', linewidth=2, label='Max')\n",
        "    axes[1,0].set_title('Pixel Value Range Evolution')\n",
        "    axes[1,0].set_xlabel('Timestep t')\n",
        "    axes[1,0].set_ylabel('Pixel Value')\n",
        "    axes[1,0].legend()\n",
        "    axes[1,0].grid(True, alpha=0.3)\n",
        "    \n",
        "    # Convergence to N(0,1)\n",
        "    gaussian_distances = []\n",
        "    for mean, std in zip(pixel_stats['means'], pixel_stats['stds']):\n",
        "        distance = np.sqrt((mean - 0)**2 + (std - 1)**2)\n",
        "        gaussian_distances.append(distance)\n",
        "    \n",
        "    axes[1,1].plot(test_timesteps, gaussian_distances, 'ro-', linewidth=2, markersize=6)\n",
        "    axes[1,1].set_title('Distance to N(0,1)')\n",
        "    axes[1,1].set_xlabel('Timestep t')\n",
        "    axes[1,1].set_ylabel(r'$\\sqrt{(\\mu-0)^2 + (\\sigma-1)^2}$')\n",
        "    axes[1,1].grid(True, alpha=0.3)\n",
        "    \n",
        "    plt.tight_layout()\n",
        "    plt.show()\n",
        "    \n",
        "    # Print statistics table\n",
        "    print(f\"\\nPixel Statistics Evolution - {dataset.upper()} ({schedule_type} schedule):\")\n",
        "    print(\"=\" * 70)\n",
        "    print(f\"{'Timestep':>8} {'Mean':>8} {'Std':>8} {'Min':>8} {'Max':>8} {'Dist to N(0,1)':>12}\")\n",
        "    print(\"-\" * 70)\n",
        "    \n",
        "    for i, t in enumerate(test_timesteps):\n",
        "        mean = pixel_stats['means'][i]\n",
        "        std = pixel_stats['stds'][i]\n",
        "        min_val = pixel_stats['mins'][i]\n",
        "        max_val = pixel_stats['maxs'][i]\n",
        "        dist = gaussian_distances[i]\n",
        "        \n",
        "        print(f\"{t:>8} {mean:>8.3f} {std:>8.3f} {min_val:>8.3f} {max_val:>8.3f} {dist:>12.3f}\")\n",
        "    \n",
        "    print(\"\\nTarget: Mean=0.000, Std=1.000 for perfect Gaussian\")\n",
        "\n",
        "# Create interactive widget\n",
        "interact(\n",
        "    analyze_pixel_statistics,\n",
        "    dataset=widgets.Dropdown(options=['mnist', 'cifar10'], value='mnist', description='Dataset:'),\n",
        "    schedule_type=widgets.Dropdown(options=['linear', 'cosine', 'sigmoid'], value='cosine', description='Schedule:'),\n",
        "    T=widgets.IntSlider(min=500, max=2000, step=100, value=1000, description='Timesteps T:')\n",
        ");\n"
      ]
    },
    {
      "cell_type": "markdown",
      "metadata": {
        "vscode": {
          "languageId": "raw"
        }
      },
      "source": [
        "## Summary and Key Insights\n",
        "\n",
        "This notebook demonstrates the forward diffusion process with interactive controls. Key takeaways:\n",
        "\n",
        "1. **Schedule Comparison**: Cosine schedules typically provide more gradual noise addition early on\n",
        "2. **SNR Thresholds**: Images become more noise than signal around -5dB SNR  \n",
        "3. **Pixel Statistics**: Gradual convergence to standard Gaussian distribution\n",
        "4. **Efficiency**: Different schedules reach noise thresholds at different rates\n",
        "\n",
        "Use the interactive widgets above to explore these concepts with different parameters!\n"
      ]
    }
  ],
  "metadata": {
    "kernelspec": {
      "display_name": "generative",
      "language": "python",
      "name": "python3"
    },
    "language_info": {
      "codemirror_mode": {
        "name": "ipython",
        "version": 3
      },
      "file_extension": ".py",
      "mimetype": "text/x-python",
      "name": "python",
      "nbconvert_exporter": "python",
      "pygments_lexer": "ipython3",
      "version": "3.10.18"
    }
  },
  "nbformat": 4,
  "nbformat_minor": 2
}
