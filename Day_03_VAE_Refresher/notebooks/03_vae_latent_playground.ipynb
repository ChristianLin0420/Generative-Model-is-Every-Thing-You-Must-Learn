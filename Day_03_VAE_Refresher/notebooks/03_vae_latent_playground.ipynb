{
  "cells": [
    {
      "cell_type": "markdown",
      "metadata": {
        "vscode": {
          "languageId": "raw"
        }
      },
      "source": [
        "# VAE Latent Space Playground 🎮\n",
        "\n",
        "This notebook provides an interactive environment for exploring VAE latent spaces, visualizing ELBO components, and experimenting with different VAE configurations.\n",
        "\n",
        "## 📚 What You'll Learn\n",
        "- How to load and interact with trained VAE models\n",
        "- Explore latent space through traversals and interpolations\n",
        "- Understand ELBO decomposition (reconstruction + KL divergence)\n",
        "- Compare different sampling strategies\n",
        "- Visualize the learned latent representations\n"
      ]
    },
    {
      "cell_type": "markdown",
      "metadata": {
        "vscode": {
          "languageId": "raw"
        }
      },
      "source": [
        "## 🔧 Setup\n"
      ]
    },
    {
      "cell_type": "code",
      "execution_count": 1,
      "metadata": {},
      "outputs": [],
      "source": [
        "# Import necessary libraries\n",
        "import sys\n",
        "import os\n",
        "import numpy as np\n",
        "import matplotlib.pyplot as plt\n",
        "import seaborn as sns\n",
        "import torch\n",
        "import torch.nn.functional as F\n",
        "from ipywidgets import interact, interactive, fixed, interact_manual\n",
        "import ipywidgets as widgets\n",
        "from IPython.display import display, clear_output\n",
        "\n",
        "# Add src to path\n",
        "sys.path.append('../')\n",
        "\n",
        "from src.eval import load_model_from_checkpoint\n",
        "from src.dataset import get_sample_images\n",
        "from src.visualize import create_latent_traversal, create_reconstruction_grid\n",
        "from src.sample import sample_from_prior, interpolate_between_samples\n",
        "from src.losses import elbo_loss\n",
        "\n",
        "# Set style\n",
        "plt.style.use('seaborn-v0_8')\n",
        "sns.set_palette(\"husl\")\n",
        "\n",
        "%matplotlib inline\n",
        "%load_ext autoreload\n",
        "%autoreload 2\n"
      ]
    },
    {
      "cell_type": "markdown",
      "metadata": {
        "vscode": {
          "languageId": "raw"
        }
      },
      "source": [
        "## 🚀 Load Trained VAE Model\n"
      ]
    },
    {
      "cell_type": "code",
      "execution_count": 2,
      "metadata": {},
      "outputs": [
        {
          "name": "stdout",
          "output_type": "stream",
          "text": [
            "Using device: cuda\n",
            "✅ Model loaded successfully!\n",
            "Model: VAEConv\n",
            "Dataset: mnist\n",
            "Latent dimensions: 32\n",
            "Input channels: 1\n"
          ]
        }
      ],
      "source": [
        "# Configuration\n",
        "CHECKPOINT_PATH = \"../outputs/ckpts/best.pt\"\n",
        "device = torch.device(\"cuda\" if torch.cuda.is_available() else \"cpu\")\n",
        "\n",
        "print(f\"Using device: {device}\")\n",
        "\n",
        "# Load model\n",
        "try:\n",
        "    model, config = load_model_from_checkpoint(CHECKPOINT_PATH, device)\n",
        "    print(f\"✅ Model loaded successfully!\")\n",
        "    print(f\"Model: {model.__class__.__name__}\")\n",
        "    print(f\"Dataset: {config.data.dataset}\")\n",
        "    print(f\"Latent dimensions: {model.latent_dim}\")\n",
        "    print(f\"Input channels: {config.model.in_ch}\")\n",
        "except FileNotFoundError:\n",
        "    print(f\"❌ Checkpoint not found: {CHECKPOINT_PATH}\")\n",
        "    print(f\"💡 Please train a model first using: python -m src.cli train --config configs/mnist.yaml\")\n",
        "    model, config = None, None\n",
        "except Exception as e:\n",
        "    print(f\"❌ Error loading model: {e}\")\n",
        "    model, config = None, None\n"
      ]
    },
    {
      "cell_type": "markdown",
      "metadata": {
        "vscode": {
          "languageId": "raw"
        }
      },
      "source": [
        "## 📊 Load Sample Data\n"
      ]
    },
    {
      "cell_type": "code",
      "execution_count": 3,
      "metadata": {},
      "outputs": [
        {
          "name": "stdout",
          "output_type": "stream",
          "text": [
            "Sample images shape: torch.Size([64, 1, 28, 28])\n"
          ]
        },
        {
          "data": {
            "image/png": "[encoded data removed]",
            "text/plain": [
              "<Figure size 1200x300 with 16 Axes>"
            ]
          },
          "metadata": {},
          "output_type": "display_data"
        }
      ],
      "source": [
        "if model is not None and config is not None:\n",
        "    # Load sample images\n",
        "    sample_images = get_sample_images(\n",
        "        config.data.dataset,\n",
        "        config.data.root,\n",
        "        num_samples=64,\n",
        "        normalize=config.data.normalize\n",
        "    )\n",
        "    \n",
        "    print(f\"Sample images shape: {sample_images.shape}\")\n",
        "    \n",
        "    # Display a few sample images\n",
        "    fig, axes = plt.subplots(2, 8, figsize=(12, 3))\n",
        "    for i in range(16):\n",
        "        row, col = i // 8, i % 8\n",
        "        img = sample_images[i].squeeze().cpu().numpy()\n",
        "        axes[row, col].imshow(img, cmap='gray' if config.model.in_ch == 1 else None)\n",
        "        axes[row, col].axis('off')\n",
        "    \n",
        "    plt.suptitle('Sample Images from Dataset')\n",
        "    plt.tight_layout()\n",
        "    plt.show()\n",
        "else:\n",
        "    print(\"⏭️ Skipping data loading (model not available)\")\n"
      ]
    },
    {
      "cell_type": "markdown",
      "metadata": {
        "vscode": {
          "languageId": "raw"
        }
      },
      "source": [
        "## 🔄 Interactive Reconstruction Comparison\n"
      ]
    },
    {
      "cell_type": "code",
      "execution_count": null,
      "metadata": {},
      "outputs": [],
      "source": [
        "if model is not None:\n",
        "    def show_reconstruction(image_idx=0):\n",
        "        \"\"\"Show original vs reconstructed image.\"\"\"\n",
        "        with torch.no_grad():\n",
        "            model.eval()\n",
        "            \n",
        "            # Get original image\n",
        "            original = sample_images[image_idx:image_idx+1].to(device)\n",
        "            \n",
        "            # Get reconstruction\n",
        "            reconstruction = model.reconstruct(original)\n",
        "            \n",
        "            # Compute ELBO components\n",
        "            x_hat, mu, logvar = model(original)\n",
        "            _, loss_dict = elbo_loss(x_hat, original, mu, logvar, beta=1.0, \n",
        "                                   recon_loss_type=config.train.recon_loss)\n",
        "            \n",
        "            # Display\n",
        "            fig, axes = plt.subplots(1, 2, figsize=(8, 4))\n",
        "            \n",
        "            # Original\n",
        "            orig_img = original.squeeze().cpu().numpy()\n",
        "            axes[0].imshow(orig_img, cmap='gray' if config.model.in_ch == 1 else None)\n",
        "            axes[0].set_title('Original')\n",
        "            axes[0].axis('off')\n",
        "            \n",
        "            # Reconstruction\n",
        "            if hasattr(model, 'decoder') and hasattr(model.decoder, 'deconv_layers'):\n",
        "                recon_img = torch.sigmoid(reconstruction).squeeze().cpu().numpy()\n",
        "            else:\n",
        "                recon_img = reconstruction.squeeze().cpu().numpy()\n",
        "            \n",
        "            axes[1].imshow(recon_img, cmap='gray' if config.model.in_ch == 1 else None)\n",
        "            axes[1].set_title('Reconstruction')\n",
        "            axes[1].axis('off')\n",
        "            \n",
        "            # Add loss information\n",
        "            plt.suptitle(f'Recon Loss: {loss_dict[\"recon_loss\"].item():.3f}, '\n",
        "                        f'KL Loss: {loss_dict[\"kl_loss\"].item():.3f}, '\n",
        "                        f'Total: {loss_dict[\"total_loss\"].item():.3f}')\n",
        "            \n",
        "            plt.tight_layout()\n",
        "            plt.show()\n",
        "            \n",
        "            # Show latent statistics\n",
        "            print(f\"Latent statistics:\")\n",
        "            print(f\"  Mean (μ): min={mu.min().item():.3f}, max={mu.max().item():.3f}, std={mu.std().item():.3f}\")\n",
        "            print(f\"  Log-var: min={logvar.min().item():.3f}, max={logvar.max().item():.3f}, mean={logvar.mean().item():.3f}\")\n",
        "            print(f\"  Std (σ): min={torch.exp(0.5*logvar).min().item():.3f}, max={torch.exp(0.5*logvar).max().item():.3f}\")\n",
        "    \n",
        "    # Interactive widget\n",
        "    interact(show_reconstruction, image_idx=widgets.IntSlider(\n",
        "        value=0, min=0, max=len(sample_images)-1, step=1, description='Image:'))\n",
        "        \n",
        "else:\n",
        "    print(\"⏭️ Skipping reconstruction demo (model not available)\")\n"
      ]
    },
    {
      "cell_type": "markdown",
      "metadata": {
        "vscode": {
          "languageId": "raw"
        }
      },
      "source": [
        "## 🎚️ Interactive Latent Space Traversal\n"
      ]
    },
    {
      "cell_type": "code",
      "execution_count": 4,
      "metadata": {},
      "outputs": [
        {
          "data": {
            "application/vnd.jupyter.widget-view+json": {
              "model_id": "6af2225b0ffa44cbbff7b1d990af025c",
              "version_major": 2,
              "version_minor": 0
            },
            "text/plain": [
              "interactive(children=(IntSlider(value=0, description='Image:', max=63), IntSlider(value=0, description='Dimens…"
            ]
          },
          "metadata": {},
          "output_type": "display_data"
        }
      ],
      "source": [
        "if model is not None:\n",
        "    def traverse_latent_space(image_idx=0, dim=0, num_steps=11, step_size=3.0):\n",
        "        \"\"\"Interactive latent space traversal.\"\"\"\n",
        "        if dim >= model.latent_dim:\n",
        "            print(f\"⚠️ Dimension {dim} is out of range. Model has {model.latent_dim} dimensions.\")\n",
        "            return\n",
        "            \n",
        "        base_image = sample_images[image_idx:image_idx+1].to(device)\n",
        "        \n",
        "        # Create traversal\n",
        "        traversal = create_latent_traversal(\n",
        "            model, base_image, device, dim, num_steps, step_size\n",
        "        )\n",
        "        \n",
        "        # Display traversal\n",
        "        fig, axes = plt.subplots(1, num_steps, figsize=(2*num_steps, 2))\n",
        "        if num_steps == 1:\n",
        "            axes = [axes]\n",
        "            \n",
        "        traverse_values = np.linspace(-step_size, step_size, num_steps)\n",
        "        \n",
        "        for i in range(num_steps):\n",
        "            img = traversal[i].squeeze().cpu().numpy()\n",
        "            axes[i].imshow(img, cmap='gray' if config.model.in_ch == 1 else None)\n",
        "            axes[i].set_title(f'{traverse_values[i]:.1f}')\n",
        "            axes[i].axis('off')\n",
        "        \n",
        "        plt.suptitle(f'Latent Traversal - Dimension {dim}')\n",
        "        plt.tight_layout()\n",
        "        plt.show()\n",
        "    \n",
        "    # Interactive widget\n",
        "    interact(traverse_latent_space, \n",
        "             image_idx=widgets.IntSlider(value=0, min=0, max=len(sample_images)-1, description='Image:'),\n",
        "             dim=widgets.IntSlider(value=0, min=0, max=min(model.latent_dim-1, 15), description='Dimension:'),\n",
        "             num_steps=widgets.IntSlider(value=11, min=3, max=15, description='Steps:'),\n",
        "             step_size=widgets.FloatSlider(value=3.0, min=0.5, max=5.0, step=0.5, description='Range:'))\n",
        "             \n",
        "else:\n",
        "    print(\"⏭️ Skipping latent traversal demo (model not available)\")\n"
      ]
    },
    {
      "cell_type": "markdown",
      "metadata": {
        "vscode": {
          "languageId": "raw"
        }
      },
      "source": [
        "## 🎲 Interactive Prior Sampling\n"
      ]
    },
    {
      "cell_type": "code",
      "execution_count": null,
      "metadata": {},
      "outputs": [
        {
          "data": {
            "application/vnd.jupyter.widget-view+json": {
              "model_id": "f00b1dd112c4469eb8e3857bda327a98",
              "version_major": 2,
              "version_minor": 0
            },
            "text/plain": [
              "interactive(children=(IntSlider(value=16, description='# Samples:', max=64, min=4, step=4), FloatSlider(value=…"
            ]
          },
          "metadata": {},
          "output_type": "display_data"
        }
      ],
      "source": [
        "if model is not None:\n",
        "    def sample_from_prior_interactive(num_samples=16, temperature=1.0, seed=42):\n",
        "        \"\"\"Generate samples from prior with different temperatures.\"\"\"\n",
        "        torch.manual_seed(seed)\n",
        "        \n",
        "        samples = sample_from_prior(model, num_samples, device, temperature)\n",
        "        \n",
        "        # Display samples\n",
        "        grid_size = int(np.ceil(np.sqrt(num_samples)))\n",
        "        fig, axes = plt.subplots(grid_size, grid_size, figsize=(2*grid_size, 2*grid_size))\n",
        "        \n",
        "        if grid_size == 1:\n",
        "            axes = [[axes]]\n",
        "        elif len(axes.shape) == 1:\n",
        "            axes = [axes]\n",
        "        \n",
        "        for i in range(grid_size):\n",
        "            for j in range(grid_size):\n",
        "                idx = i * grid_size + j\n",
        "                if idx < num_samples:\n",
        "                    img = samples[idx].squeeze().cpu().numpy()\n",
        "                    axes[i][j].imshow(img, cmap='gray' if config.model.in_ch == 1 else None)\n",
        "                axes[i][j].axis('off')\n",
        "        \n",
        "        plt.suptitle(f'Samples from Prior (Temperature: {temperature})')\n",
        "        plt.tight_layout()\n",
        "        plt.show()\n",
        "    \n",
        "    # Interactive widget\n",
        "    interact(sample_from_prior_interactive,\n",
        "             num_samples=widgets.IntSlider(value=16, min=4, max=64, step=4, description='# Samples:'),\n",
        "             temperature=widgets.FloatSlider(value=1.0, min=0.1, max=2.0, step=0.1, description='Temperature:'),\n",
        "             seed=widgets.IntSlider(value=42, min=0, max=9999, description='Seed:'))\n",
        "             \n",
        "else:\n",
        "    print(\"⏭️ Skipping prior sampling demo (model not available)\")\n"
      ]
    },
    {
      "cell_type": "markdown",
      "metadata": {
        "vscode": {
          "languageId": "raw"
        }
      },
      "source": [
        "## 🌈 Interactive Interpolation\n"
      ]
    },
    {
      "cell_type": "code",
      "execution_count": 6,
      "metadata": {},
      "outputs": [
        {
          "data": {
            "application/vnd.jupyter.widget-view+json": {
              "model_id": "6ffbb4b37d2e48909a28921747c4dbec",
              "version_major": 2,
              "version_minor": 0
            },
            "text/plain": [
              "interactive(children=(IntSlider(value=0, description='Image 1:', max=63), IntSlider(value=10, description='Ima…"
            ]
          },
          "metadata": {},
          "output_type": "display_data"
        }
      ],
      "source": [
        "if model is not None:\n",
        "    def interpolate_interactive(img1_idx=0, img2_idx=10, num_steps=10, mode='linear'):\n",
        "        \"\"\"Interpolate between two images.\"\"\"\n",
        "        if img1_idx == img2_idx:\n",
        "            print(\"⚠️ Please select different images for interpolation.\")\n",
        "            return\n",
        "            \n",
        "        img1 = sample_images[img1_idx:img1_idx+1].to(device)\n",
        "        img2 = sample_images[img2_idx:img2_idx+1].to(device)\n",
        "        \n",
        "        # Create interpolation\n",
        "        interpolated = interpolate_between_samples(\n",
        "            model, img1, img2, num_steps, mode\n",
        "        )\n",
        "        \n",
        "        # Display interpolation\n",
        "        fig, axes = plt.subplots(1, num_steps, figsize=(2*num_steps, 2))\n",
        "        if num_steps == 1:\n",
        "            axes = [axes]\n",
        "        \n",
        "        alphas = np.linspace(0, 1, num_steps)\n",
        "        \n",
        "        for i in range(num_steps):\n",
        "            img = interpolated[i].squeeze().cpu().numpy()\n",
        "            axes[i].imshow(img, cmap='gray' if config.model.in_ch == 1 else None)\n",
        "            axes[i].set_title(f'{alphas[i]:.2f}')\n",
        "            axes[i].axis('off')\n",
        "        \n",
        "        plt.suptitle(f'Interpolation ({mode}): Image {img1_idx} → Image {img2_idx}')\n",
        "        plt.tight_layout()\n",
        "        plt.show()\n",
        "    \n",
        "    # Interactive widget\n",
        "    interact(interpolate_interactive,\n",
        "             img1_idx=widgets.IntSlider(value=0, min=0, max=len(sample_images)-1, description='Image 1:'),\n",
        "             img2_idx=widgets.IntSlider(value=10, min=0, max=len(sample_images)-1, description='Image 2:'),\n",
        "             num_steps=widgets.IntSlider(value=10, min=3, max=15, description='Steps:'),\n",
        "             mode=widgets.Dropdown(options=['linear', 'spherical'], value='linear', description='Mode:'))\n",
        "             \n",
        "else:\n",
        "    print(\"⏭️ Skipping interpolation demo (model not available)\")\n"
      ]
    },
    {
      "cell_type": "markdown",
      "metadata": {
        "vscode": {
          "languageId": "raw"
        }
      },
      "source": [
        "## 📈 ELBO Components Analysis\n"
      ]
    },
    {
      "cell_type": "code",
      "execution_count": null,
      "metadata": {},
      "outputs": [
        {
          "data": {
            "application/vnd.jupyter.widget-view+json": {
              "model_id": "088a5ea7f860418ab4e7f90c14531d0d",
              "version_major": 2,
              "version_minor": 0
            },
            "text/plain": [
              "interactive(children=(IntSlider(value=50, description='# Samples:', max=64, min=10, step=10), FloatSlider(valu…"
            ]
          },
          "metadata": {},
          "output_type": "display_data"
        }
      ],
      "source": [
        "if model is not None:\n",
        "    def analyze_elbo_components(num_samples=100, beta=1.0):\n",
        "        \"\"\"Analyze ELBO components across multiple samples.\"\"\"\n",
        "        model.eval()\n",
        "        \n",
        "        recon_losses = []\n",
        "        kl_losses = []\n",
        "        total_losses = []\n",
        "        \n",
        "        with torch.no_grad():\n",
        "            for i in range(min(num_samples, len(sample_images))):\n",
        "                x = sample_images[i:i+1].to(device)\n",
        "                x_hat, mu, logvar = model(x)\n",
        "                \n",
        "                _, loss_dict = elbo_loss(x_hat, x, mu, logvar, beta, \n",
        "                                       config.train.recon_loss)\n",
        "                \n",
        "                recon_losses.append(loss_dict['recon_loss'].item())\n",
        "                kl_losses.append(loss_dict['kl_loss'].item())\n",
        "                total_losses.append(loss_dict['total_loss'].item())\n",
        "        \n",
        "        # Create plots\n",
        "        fig, axes = plt.subplots(2, 2, figsize=(12, 8))\n",
        "        \n",
        "        # Histogram of losses\n",
        "        axes[0, 0].hist(recon_losses, alpha=0.7, label='Reconstruction', bins=20)\n",
        "        axes[0, 0].hist(kl_losses, alpha=0.7, label='KL Divergence', bins=20)\n",
        "        axes[0, 0].set_xlabel('Loss Value')\n",
        "        axes[0, 0].set_ylabel('Frequency')\n",
        "        axes[0, 0].set_title('Loss Distribution')\n",
        "        axes[0, 0].legend()\n",
        "        axes[0, 0].grid(True, alpha=0.3)\n",
        "        \n",
        "        # Scatter plot: Reconstruction vs KL\n",
        "        axes[0, 1].scatter(recon_losses, kl_losses, alpha=0.6)\n",
        "        axes[0, 1].set_xlabel('Reconstruction Loss')\n",
        "        axes[0, 1].set_ylabel('KL Loss')\n",
        "        axes[0, 1].set_title('Reconstruction vs KL Loss')\n",
        "        axes[0, 1].grid(True, alpha=0.3)\n",
        "        \n",
        "        # Total loss over samples\n",
        "        axes[1, 0].plot(total_losses, alpha=0.7)\n",
        "        axes[1, 0].set_xlabel('Sample Index')\n",
        "        axes[1, 0].set_ylabel('Total Loss')\n",
        "        axes[1, 0].set_title('Total Loss per Sample')\n",
        "        axes[1, 0].grid(True, alpha=0.3)\n",
        "        \n",
        "        # Loss components comparison\n",
        "        loss_means = [np.mean(recon_losses), np.mean(kl_losses)]\n",
        "        loss_stds = [np.std(recon_losses), np.std(kl_losses)]\n",
        "        loss_names = ['Reconstruction', 'KL Divergence']\n",
        "        \n",
        "        bars = axes[1, 1].bar(loss_names, loss_means, yerr=loss_stds, capsize=5)\n",
        "        axes[1, 1].set_ylabel('Average Loss')\n",
        "        axes[1, 1].set_title('Average Loss Components')\n",
        "        axes[1, 1].grid(True, alpha=0.3)\n",
        "        \n",
        "        # Color bars differently\n",
        "        bars[0].set_color('skyblue')\n",
        "        bars[1].set_color('lightcoral')\n",
        "        \n",
        "        plt.tight_layout()\n",
        "        plt.show()\n",
        "        \n",
        "        # Print statistics\n",
        "        print(f\"📊 ELBO Statistics (β={beta}):\")\n",
        "        print(f\"  Reconstruction Loss: {np.mean(recon_losses):.3f} ± {np.std(recon_losses):.3f}\")\n",
        "        print(f\"  KL Divergence:       {np.mean(kl_losses):.3f} ± {np.std(kl_losses):.3f}\")\n",
        "        print(f\"  Total Loss:          {np.mean(total_losses):.3f} ± {np.std(total_losses):.3f}\")\n",
        "        print(f\"  Recon/KL Ratio:      {np.mean(recon_losses)/np.mean(kl_losses):.2f}\")\n",
        "    \n",
        "    # Interactive widget\n",
        "    interact(analyze_elbo_components,\n",
        "             num_samples=widgets.IntSlider(value=50, min=10, max=len(sample_images), step=10, description='# Samples:'),\n",
        "             beta=widgets.FloatSlider(value=1.0, min=0.1, max=5.0, step=0.1, description='β (Beta):'))\n",
        "             \n",
        "else:\n",
        "    print(\"⏭️ Skipping ELBO analysis (model not available)\")\n"
      ]
    },
    {
      "cell_type": "markdown",
      "metadata": {
        "vscode": {
          "languageId": "raw"
        }
      },
      "source": [
        "## 🎯 2D Latent Space Visualization (if applicable)\n"
      ]
    },
    {
      "cell_type": "code",
      "execution_count": 8,
      "metadata": {},
      "outputs": [
        {
          "name": "stdout",
          "output_type": "stream",
          "text": [
            "ℹ️ 2D visualization only available for 2D latent space. Current model has 32D latent space.\n"
          ]
        }
      ],
      "source": [
        "if model is not None and model.latent_dim == 2:\n",
        "    def visualize_2d_latent_space(num_samples=200):\n",
        "        \"\"\"Visualize 2D latent space.\"\"\"\n",
        "        model.eval()\n",
        "        \n",
        "        # Collect latent codes\n",
        "        latent_codes = []\n",
        "        \n",
        "        with torch.no_grad():\n",
        "            for i in range(min(num_samples, len(sample_images))):\n",
        "                x = sample_images[i:i+1].to(device)\n",
        "                mu, _ = model.encode(x)\n",
        "                latent_codes.append(mu.cpu().numpy())\n",
        "        \n",
        "        latent_codes = np.vstack(latent_codes)\n",
        "        \n",
        "        # Create visualization\n",
        "        fig, axes = plt.subplots(1, 2, figsize=(12, 5))\n",
        "        \n",
        "        # Scatter plot of latent codes\n",
        "        axes[0].scatter(latent_codes[:, 0], latent_codes[:, 1], alpha=0.6, s=20)\n",
        "        axes[0].set_xlabel('Latent Dimension 1')\n",
        "        axes[0].set_ylabel('Latent Dimension 2')\n",
        "        axes[0].set_title('Learned Latent Representations')\n",
        "        axes[0].grid(True, alpha=0.3)\n",
        "        \n",
        "        # Sample from a grid in latent space\n",
        "        n_grid = 10\n",
        "        x_range = np.linspace(-3, 3, n_grid)\n",
        "        y_range = np.linspace(-3, 3, n_grid)\n",
        "        \n",
        "        grid_samples = []\n",
        "        for x in x_range:\n",
        "            for y in y_range:\n",
        "                z = torch.tensor([[x, y]], dtype=torch.float32, device=device)\n",
        "                with torch.no_grad():\n",
        "                    sample = model.decode(z)\n",
        "                    if hasattr(model, 'decoder') and hasattr(model.decoder, 'deconv_layers'):\n",
        "                        sample = torch.sigmoid(sample)\n",
        "                    grid_samples.append(sample.cpu().numpy())\n",
        "        \n",
        "        # Create a mosaic of samples\n",
        "        mosaic = np.zeros((n_grid * sample_images.shape[-2], n_grid * sample_images.shape[-1]))\n",
        "        \n",
        "        for i, sample in enumerate(grid_samples):\n",
        "            row = i // n_grid\n",
        "            col = i % n_grid\n",
        "            \n",
        "            start_row = row * sample_images.shape[-2]\n",
        "            end_row = start_row + sample_images.shape[-2]\n",
        "            start_col = col * sample_images.shape[-1]\n",
        "            end_col = start_col + sample_images.shape[-1]\n",
        "            \n",
        "            mosaic[start_row:end_row, start_col:end_col] = sample[0].squeeze()\n",
        "        \n",
        "        axes[1].imshow(mosaic, cmap='gray', extent=[-3, 3, -3, 3])\n",
        "        axes[1].set_xlabel('Latent Dimension 1')\n",
        "        axes[1].set_ylabel('Latent Dimension 2')\n",
        "        axes[1].set_title('Latent Space Manifold')\n",
        "        \n",
        "        plt.tight_layout()\n",
        "        plt.show()\n",
        "    \n",
        "    # Interactive widget\n",
        "    interact(visualize_2d_latent_space,\n",
        "             num_samples=widgets.IntSlider(value=100, min=50, max=min(500, len(sample_images)), step=50, description='# Samples:'))\n",
        "             \n",
        "elif model is not None:\n",
        "    print(f\"ℹ️ 2D visualization only available for 2D latent space. Current model has {model.latent_dim}D latent space.\")\n",
        "else:\n",
        "    print(\"⏭️ Skipping 2D visualization (model not available)\")\n"
      ]
    },
    {
      "cell_type": "markdown",
      "metadata": {
        "vscode": {
          "languageId": "raw"
        }
      },
      "source": [
        "## 🔧 Model Architecture Summary\n"
      ]
    },
    {
      "cell_type": "code",
      "execution_count": 9,
      "metadata": {},
      "outputs": [
        {
          "name": "stdout",
          "output_type": "stream",
          "text": [
            "🏗️ Model Architecture Summary:\n",
            "  Model Type: VAEConv\n",
            "  Input Channels: 1\n",
            "  Latent Dimensions: 32\n",
            "  Base Channels: 64\n",
            "  Total Parameters: 5,611,713\n",
            "  Trainable Parameters: 5,611,713\n",
            "  Model Size: 21.42 MB\n",
            "\n",
            "📋 Training Configuration:\n",
            "  Dataset: mnist\n",
            "  Batch Size: 128\n",
            "  Learning Rate: 0.0003\n",
            "  Optimizer: adamw\n",
            "  Reconstruction Loss: bce\n",
            "  Beta (KL weight): 1.0\n",
            "  KL Schedule: linear\n",
            "  KL Warmup Epochs: 10\n"
          ]
        }
      ],
      "source": [
        "if model is not None:\n",
        "    print(\"🏗️ Model Architecture Summary:\")\n",
        "    print(f\"  Model Type: {model.__class__.__name__}\")\n",
        "    print(f\"  Input Channels: {model.in_channels}\")\n",
        "    print(f\"  Latent Dimensions: {model.latent_dim}\")\n",
        "    if hasattr(model, 'base_channels'):\n",
        "        print(f\"  Base Channels: {model.base_channels}\")\n",
        "    \n",
        "    # Count parameters\n",
        "    total_params = sum(p.numel() for p in model.parameters())\n",
        "    trainable_params = sum(p.numel() for p in model.parameters() if p.requires_grad)\n",
        "    \n",
        "    print(f\"  Total Parameters: {total_params:,}\")\n",
        "    print(f\"  Trainable Parameters: {trainable_params:,}\")\n",
        "    \n",
        "    # Model size\n",
        "    param_size = sum(p.nelement() * p.element_size() for p in model.parameters())\n",
        "    buffer_size = sum(b.nelement() * b.element_size() for b in model.buffers())\n",
        "    size_mb = (param_size + buffer_size) / (1024 * 1024)\n",
        "    \n",
        "    print(f\"  Model Size: {size_mb:.2f} MB\")\n",
        "    \n",
        "    print(\"\\n📋 Training Configuration:\")\n",
        "    print(f\"  Dataset: {config.data.dataset}\")\n",
        "    print(f\"  Batch Size: {config.data.batch_size}\")\n",
        "    print(f\"  Learning Rate: {config.train.lr}\")\n",
        "    print(f\"  Optimizer: {config.train.opt}\")\n",
        "    print(f\"  Reconstruction Loss: {config.train.recon_loss}\")\n",
        "    print(f\"  Beta (KL weight): {config.train.beta}\")\n",
        "    print(f\"  KL Schedule: {config.train.kl_schedule}\")\n",
        "    if config.train.kl_schedule != 'none':\n",
        "        print(f\"  KL Warmup Epochs: {config.train.kl_warmup_epochs}\")\n",
        "else:\n",
        "    print(\"⏭️ Skipping architecture summary (model not available)\")\n"
      ]
    },
    {
      "cell_type": "markdown",
      "metadata": {
        "vscode": {
          "languageId": "raw"
        }
      },
      "source": [
        "## 🎉 Congratulations!\n",
        "\n",
        "You've successfully explored the VAE latent space! Here's what you've learned:\n",
        "\n",
        "### 🔍 Key Insights\n",
        "- **Reconstruction Quality**: How well the VAE can reconstruct input images\n",
        "- **Latent Space Structure**: How different dimensions capture different aspects of the data\n",
        "- **ELBO Components**: The balance between reconstruction accuracy and regularization\n",
        "- **Generation Capability**: How the model can generate new samples from the learned distribution\n",
        "\n",
        "### 🚀 Next Steps\n",
        "1. **Experiment with β-VAE**: Try different β values to see how it affects disentanglement\n",
        "2. **Compare Architectures**: Train different VAE architectures (CNN, ResNet, MLP) and compare\n",
        "3. **Try Different Datasets**: See how the VAE performs on CIFAR-10 vs MNIST\n",
        "4. **Posterior Collapse**: Investigate if any latent dimensions are being ignored (KL ≈ 0)\n",
        "\n",
        "### 📚 Further Reading\n",
        "- [Auto-Encoding Variational Bayes](https://arxiv.org/abs/1312.6114) - Original VAE paper\n",
        "- [β-VAE](https://openreview.net/forum?id=Sy2fzU9gl) - Learning Basic Visual Concepts with a Constrained Variational Framework\n",
        "- [Understanding disentangling in β-VAE](https://arxiv.org/abs/1804.03599)\n",
        "\n",
        "Happy experimenting! 🧪✨\n"
      ]
    },
    {
      "cell_type": "markdown",
      "metadata": {},
      "source": []
    }
  ],
  "metadata": {
    "kernelspec": {
      "display_name": "generative",
      "language": "python",
      "name": "python3"
    },
    "language_info": {
      "codemirror_mode": {
        "name": "ipython",
        "version": 3
      },
      "file_extension": ".py",
      "mimetype": "text/x-python",
      "name": "python",
      "nbconvert_exporter": "python",
      "pygments_lexer": "ipython3",
      "version": "3.10.18"
    }
  },
  "nbformat": 4,
  "nbformat_minor": 2
}
